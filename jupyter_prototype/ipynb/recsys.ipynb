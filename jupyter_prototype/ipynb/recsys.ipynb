{
 "cells": [
  {
   "cell_type": "code",
   "execution_count": 4,
   "id": "d628d085",
   "metadata": {},
   "outputs": [
    {
     "name": "stdout",
     "output_type": "stream",
     "text": [
      "Collecting openpyxl\n",
      "  Using cached openpyxl-3.0.10-py2.py3-none-any.whl (242 kB)\n",
      "Collecting et-xmlfile\n",
      "  Using cached et_xmlfile-1.1.0-py3-none-any.whl (4.7 kB)\n",
      "Installing collected packages: et-xmlfile, openpyxl\n",
      "Successfully installed et-xmlfile-1.1.0 openpyxl-3.0.10\n"
     ]
    }
   ],
   "source": [
    "import pandas as pd\n",
    "!pip install openpyxl"
   ]
  },
  {
   "cell_type": "code",
   "execution_count": 2,
   "id": "72f8153b",
   "metadata": {},
   "outputs": [],
   "source": [
    "df_papers_1 = pd.read_csv(\n",
    "    '../data/data_csv/papers_1.csv', \n",
    "    sep='\\t', encoding='utf-8', index_col='id').dropna().drop_duplicates('title')\n",
    "df_papers_1.n_citation = df_papers_1.n_citation.astype(int)\n",
    "df_papers_1 = df_papers_1.query(\"keywords != '[]'\")"
   ]
  },
  {
   "cell_type": "code",
   "execution_count": 3,
   "id": "9256c319",
   "metadata": {},
   "outputs": [
    {
     "data": {
      "text/plain": [
       "(49111, 14)"
      ]
     },
     "execution_count": 3,
     "metadata": {},
     "output_type": "execute_result"
    }
   ],
   "source": [
    "df_papers_1.shape"
   ]
  },
  {
   "cell_type": "code",
   "execution_count": 239,
   "id": "cdbe3caf",
   "metadata": {},
   "outputs": [
    {
     "data": {
      "text/html": [
       "<div>\n",
       "<style scoped>\n",
       "    .dataframe tbody tr th:only-of-type {\n",
       "        vertical-align: middle;\n",
       "    }\n",
       "\n",
       "    .dataframe tbody tr th {\n",
       "        vertical-align: top;\n",
       "    }\n",
       "\n",
       "    .dataframe thead th {\n",
       "        text-align: right;\n",
       "    }\n",
       "</style>\n",
       "<table border=\"1\" class=\"dataframe\">\n",
       "  <thead>\n",
       "    <tr style=\"text-align: right;\">\n",
       "      <th></th>\n",
       "      <th>venue_id</th>\n",
       "      <th>title</th>\n",
       "      <th>abstract</th>\n",
       "      <th>year</th>\n",
       "      <th>n_citation</th>\n",
       "      <th>page_start</th>\n",
       "      <th>page_end</th>\n",
       "      <th>issue</th>\n",
       "      <th>volume</th>\n",
       "      <th>keywords</th>\n",
       "      <th>fos</th>\n",
       "      <th>doi</th>\n",
       "      <th>pdf</th>\n",
       "      <th>url</th>\n",
       "    </tr>\n",
       "    <tr>\n",
       "      <th>id</th>\n",
       "      <th></th>\n",
       "      <th></th>\n",
       "      <th></th>\n",
       "      <th></th>\n",
       "      <th></th>\n",
       "      <th></th>\n",
       "      <th></th>\n",
       "      <th></th>\n",
       "      <th></th>\n",
       "      <th></th>\n",
       "      <th></th>\n",
       "      <th></th>\n",
       "      <th></th>\n",
       "      <th></th>\n",
       "    </tr>\n",
       "  </thead>\n",
       "  <tbody>\n",
       "    <tr>\n",
       "      <th>2674</th>\n",
       "      <td>1176.0</td>\n",
       "      <td>Introduction.</td>\n",
       "      <td>Our understanding of object recognition can ad...</td>\n",
       "      <td>1986.0</td>\n",
       "      <td>3431</td>\n",
       "      <td>139</td>\n",
       "      <td>141</td>\n",
       "      <td>2</td>\n",
       "      <td>74</td>\n",
       "      <td>['Sustainable Development', 'Student Teacher',...</td>\n",
       "      <td>['Information system', 'Management information...</td>\n",
       "      <td>10.3928/0090-4481-19750601-05</td>\n",
       "      <td>//static.aminer.org/pdf/PDF/000/750/125/introd...</td>\n",
       "      <td>['http://dx.doi.org/10.3928/0090-4481-19750601...</td>\n",
       "    </tr>\n",
       "    <tr>\n",
       "      <th>4064</th>\n",
       "      <td>1572.0</td>\n",
       "      <td>Preface.</td>\n",
       "      <td>On behalf of the IRPS 2010 Management Committe...</td>\n",
       "      <td>2005.0</td>\n",
       "      <td>1</td>\n",
       "      <td>S1</td>\n",
       "      <td>S3</td>\n",
       "      <td>8 Suppl</td>\n",
       "      <td>25</td>\n",
       "      <td>['remote sensing', 'airborne electromagnetics'...</td>\n",
       "      <td>['Computer science', 'Artificial intelligence']</td>\n",
       "      <td>10.1016/j.bpobgyn.2014.10.013</td>\n",
       "      <td>//static.aminer.org/pdf/PDF/000/868/217/prefac...</td>\n",
       "      <td>['http://dx.doi.org/10.1016/j.bpobgyn.2014.10....</td>\n",
       "    </tr>\n",
       "  </tbody>\n",
       "</table>\n",
       "</div>"
      ],
      "text/plain": [
       "      venue_id          title  \\\n",
       "id                              \n",
       "2674    1176.0  Introduction.   \n",
       "4064    1572.0       Preface.   \n",
       "\n",
       "                                               abstract    year  n_citation  \\\n",
       "id                                                                            \n",
       "2674  Our understanding of object recognition can ad...  1986.0        3431   \n",
       "4064  On behalf of the IRPS 2010 Management Committe...  2005.0           1   \n",
       "\n",
       "     page_start page_end    issue volume  \\\n",
       "id                                         \n",
       "2674        139      141        2     74   \n",
       "4064         S1       S3  8 Suppl     25   \n",
       "\n",
       "                                               keywords  \\\n",
       "id                                                        \n",
       "2674  ['Sustainable Development', 'Student Teacher',...   \n",
       "4064  ['remote sensing', 'airborne electromagnetics'...   \n",
       "\n",
       "                                                    fos  \\\n",
       "id                                                        \n",
       "2674  ['Information system', 'Management information...   \n",
       "4064    ['Computer science', 'Artificial intelligence']   \n",
       "\n",
       "                                doi  \\\n",
       "id                                    \n",
       "2674  10.3928/0090-4481-19750601-05   \n",
       "4064  10.1016/j.bpobgyn.2014.10.013   \n",
       "\n",
       "                                                    pdf  \\\n",
       "id                                                        \n",
       "2674  //static.aminer.org/pdf/PDF/000/750/125/introd...   \n",
       "4064  //static.aminer.org/pdf/PDF/000/868/217/prefac...   \n",
       "\n",
       "                                                    url  \n",
       "id                                                       \n",
       "2674  ['http://dx.doi.org/10.3928/0090-4481-19750601...  \n",
       "4064  ['http://dx.doi.org/10.1016/j.bpobgyn.2014.10....  "
      ]
     },
     "execution_count": 239,
     "metadata": {},
     "output_type": "execute_result"
    }
   ],
   "source": [
    "df_papers_1.iloc[:1000].head(2)#abstract[:10]"
   ]
  },
  {
   "cell_type": "code",
   "execution_count": 138,
   "id": "ef9c5d44",
   "metadata": {},
   "outputs": [
    {
     "data": {
      "text/plain": [
       "id\n",
       "2674    Our understanding of object recognition can ad...\n",
       "4064    On behalf of the IRPS 2010 Management Committe...\n",
       "4314    This paper describes an approach to the featur...\n",
       "4397    We investigate the fixed parameter complexity ...\n",
       "4401    In two-channel competitive genomic hybridizati...\n",
       "4407    We consider wireless networks that can be mode...\n",
       "4421    Hierarchy is one of the most conspicuous featu...\n",
       "4422    This paper studies the problem of determining ...\n",
       "5876    The evolution of an information society is acc...\n",
       "7705    Therapeutics in Geriatric Neuropsychiatry Edit...\n",
       "Name: abstract, dtype: object"
      ]
     },
     "execution_count": 138,
     "metadata": {},
     "output_type": "execute_result"
    }
   ],
   "source": [
    "df_papers_1.abstract[:10]"
   ]
  },
  {
   "cell_type": "code",
   "execution_count": null,
   "id": "0dbb2609",
   "metadata": {},
   "outputs": [],
   "source": []
  },
  {
   "cell_type": "code",
   "execution_count": null,
   "id": "8c934a09",
   "metadata": {},
   "outputs": [],
   "source": []
  },
  {
   "cell_type": "code",
   "execution_count": null,
   "id": "f097ebb1",
   "metadata": {},
   "outputs": [],
   "source": [
    "# Create embeddings"
   ]
  },
  {
   "cell_type": "code",
   "execution_count": 212,
   "id": "5dcbb6c2",
   "metadata": {},
   "outputs": [
    {
     "name": "stderr",
     "output_type": "stream",
     "text": [
      "[nltk_data] Error loading punkt: <urlopen error [Errno 99] Cannot\n",
      "[nltk_data]     assign requested address>\n"
     ]
    },
    {
     "name": "stdout",
     "output_type": "stream",
     "text": [
      "['the', 'scikitlearn', 'doc', 'are', 'orang', 'and', 'blue']\n",
      "CPU times: user 17.2 s, sys: 6.56 ms, total: 17.2 s\n",
      "Wall time: 17.3 s\n"
     ]
    }
   ],
   "source": [
    "%%time\n",
    "from sklearn.feature_extraction.text import TfidfVectorizer\n",
    "import nltk, string\n",
    "import numpy as np\n",
    "from tqdm import tqdm\n",
    "nltk.download('punkt') # if necessary...\n",
    "\n",
    "stemmer = nltk.stem.porter.PorterStemmer()\n",
    "remove_punctuation_map = dict((ord(char), None) for char in string.punctuation)\n",
    "\n",
    "def stem_tokens(tokens):\n",
    "    return [stemmer.stem(item) for item in tokens]\n",
    "\n",
    "def normalize(text):\n",
    "    return stem_tokens(nltk.word_tokenize(text.lower().translate(remove_punctuation_map)))\n",
    "\n",
    "SLICE = 1000\n",
    "map_keys = {k:i  for i,k in zip(df_papers_1.abstract[:SLICE].index, range(len(df_papers_1.abstract[:SLICE].index)))}\n",
    "corpus = df_papers_1.abstract[:SLICE]  \n",
    "\n",
    "vect = TfidfVectorizer(tokenizer=normalize, stop_words='english')\n",
    "tfidf = vect.fit_transform(corpus)   \n",
    "                                                                                                                                                                                                                    \n",
    "pairwise_similarity = tfidf * tfidf.T\n",
    "\n",
    "#view the pairwise similarities \n",
    "# print(pairwise_similarity)\n",
    "\n",
    "#check how a string is normalized\n",
    "print(normalize(\"The scikit-learn docs are Orange and Blue\"))"
   ]
  },
  {
   "cell_type": "code",
   "execution_count": null,
   "id": "f1453a44",
   "metadata": {},
   "outputs": [],
   "source": [
    "# Get list of similarities"
   ]
  },
  {
   "cell_type": "code",
   "execution_count": 217,
   "id": "4d2287f7",
   "metadata": {},
   "outputs": [
    {
     "name": "stderr",
     "output_type": "stream",
     "text": [
      "1000it [00:02, 401.71it/s]\n"
     ]
    }
   ],
   "source": [
    "collector = {}\n",
    "for item in tqdm(pairwise_similarity):\n",
    "    map_list = [(k,v) for k,v in zip(item.indices, item.data)]\n",
    "    similar = [(map_keys[item[0]], item[1]) for item in map_list if 0.1 < item[1] < 0.99]\n",
    "    if len(item.indices) > 0:\n",
    "        collector[map_keys[item.indices[-1]]] = similar\n"
   ]
  },
  {
   "cell_type": "code",
   "execution_count": null,
   "id": "6901afb5",
   "metadata": {},
   "outputs": [],
   "source": [
    "# Choose some title"
   ]
  },
  {
   "cell_type": "code",
   "execution_count": 235,
   "id": "8f38f7dd",
   "metadata": {},
   "outputs": [],
   "source": [
    "tit = 'Ergodic mirror descent.'\n",
    "call = df_papers_1[df_papers_1.title==tit].index[0]\n",
    "book_list = collector[call]\n",
    "book_list.sort(key=lambda x:x[1], reverse=True)"
   ]
  },
  {
   "cell_type": "code",
   "execution_count": null,
   "id": "52db12fc",
   "metadata": {},
   "outputs": [],
   "source": [
    "# Get recomedation by n_citation and similarity"
   ]
  },
  {
   "cell_type": "code",
   "execution_count": 280,
   "id": "464fdd10",
   "metadata": {},
   "outputs": [
    {
     "name": "stderr",
     "output_type": "stream",
     "text": [
      "/opt/conda/lib/python3.9/site-packages/pandas/core/indexing.py:1597: SettingWithCopyWarning: \n",
      "A value is trying to be set on a copy of a slice from a DataFrame.\n",
      "Try using .loc[row_indexer,col_indexer] = value instead\n",
      "\n",
      "See the caveats in the documentation: https://pandas.pydata.org/pandas-docs/stable/user_guide/indexing.html#returning-a-view-versus-a-copy\n",
      "  self.obj[key] = value\n",
      "/opt/conda/lib/python3.9/site-packages/pandas/core/indexing.py:1676: SettingWithCopyWarning: \n",
      "A value is trying to be set on a copy of a slice from a DataFrame.\n",
      "Try using .loc[row_indexer,col_indexer] = value instead\n",
      "\n",
      "See the caveats in the documentation: https://pandas.pydata.org/pandas-docs/stable/user_guide/indexing.html#returning-a-view-versus-a-copy\n",
      "  self._setitem_single_column(ilocs[0], value, pi)\n"
     ]
    },
    {
     "data": {
      "text/html": [
       "<div>\n",
       "<style scoped>\n",
       "    .dataframe tbody tr th:only-of-type {\n",
       "        vertical-align: middle;\n",
       "    }\n",
       "\n",
       "    .dataframe tbody tr th {\n",
       "        vertical-align: top;\n",
       "    }\n",
       "\n",
       "    .dataframe thead th {\n",
       "        text-align: right;\n",
       "    }\n",
       "</style>\n",
       "<table border=\"1\" class=\"dataframe\">\n",
       "  <thead>\n",
       "    <tr style=\"text-align: right;\">\n",
       "      <th></th>\n",
       "      <th>venue_id</th>\n",
       "      <th>title</th>\n",
       "      <th>abstract</th>\n",
       "      <th>year</th>\n",
       "      <th>n_citation</th>\n",
       "      <th>page_start</th>\n",
       "      <th>page_end</th>\n",
       "      <th>issue</th>\n",
       "      <th>volume</th>\n",
       "      <th>keywords</th>\n",
       "      <th>fos</th>\n",
       "      <th>doi</th>\n",
       "      <th>pdf</th>\n",
       "      <th>url</th>\n",
       "      <th>similarity</th>\n",
       "    </tr>\n",
       "    <tr>\n",
       "      <th>id</th>\n",
       "      <th></th>\n",
       "      <th></th>\n",
       "      <th></th>\n",
       "      <th></th>\n",
       "      <th></th>\n",
       "      <th></th>\n",
       "      <th></th>\n",
       "      <th></th>\n",
       "      <th></th>\n",
       "      <th></th>\n",
       "      <th></th>\n",
       "      <th></th>\n",
       "      <th></th>\n",
       "      <th></th>\n",
       "      <th></th>\n",
       "    </tr>\n",
       "  </thead>\n",
       "  <tbody>\n",
       "    <tr>\n",
       "      <th>23474</th>\n",
       "      <td>5968.0</td>\n",
       "      <td>Biogeography-Based Optimization</td>\n",
       "      <td>Biogeography is the study of the geographical ...</td>\n",
       "      <td>2008.0</td>\n",
       "      <td>2104</td>\n",
       "      <td>702</td>\n",
       "      <td>713</td>\n",
       "      <td>6</td>\n",
       "      <td>12</td>\n",
       "      <td>['particle swarm optimization', 'biology-based...</td>\n",
       "      <td>['Particle swarm optimization', 'Mathematical ...</td>\n",
       "      <td>10.1109/TEVC.2008.919004</td>\n",
       "      <td>https://static.aminer.cn/upload/pdf/program/53...</td>\n",
       "      <td>['http://dx.doi.org/10.1109/TEVC.2008.919004']</td>\n",
       "      <td>0.120411</td>\n",
       "    </tr>\n",
       "    <tr>\n",
       "      <th>33581</th>\n",
       "      <td>2822.0</td>\n",
       "      <td>Extremely randomized trees</td>\n",
       "      <td>This paper proposes a new tree-based ensemble ...</td>\n",
       "      <td>2006.0</td>\n",
       "      <td>1900</td>\n",
       "      <td>3</td>\n",
       "      <td>42</td>\n",
       "      <td>1</td>\n",
       "      <td>63</td>\n",
       "      <td>['Supervised learning', 'Decision and regressi...</td>\n",
       "      <td>['Cut-point', 'Kernel (linear algebra)', 'Deci...</td>\n",
       "      <td>10.1007/s10994-006-6226-1</td>\n",
       "      <td>//static.aminer.org/pdf/PDF/001/009/448/extrem...</td>\n",
       "      <td>['http://dx.doi.org/10.1007/s10994-006-6226-1'...</td>\n",
       "      <td>0.100472</td>\n",
       "    </tr>\n",
       "    <tr>\n",
       "      <th>25072</th>\n",
       "      <td>450.0</td>\n",
       "      <td>Annealed importance sampling</td>\n",
       "      <td>Simulated annealing—moving from a tractable di...</td>\n",
       "      <td>2001.0</td>\n",
       "      <td>954</td>\n",
       "      <td>125</td>\n",
       "      <td>139</td>\n",
       "      <td>2</td>\n",
       "      <td>11</td>\n",
       "      <td>['tempered transitions', 'sequential importanc...</td>\n",
       "      <td>['Slice sampling', 'Statistical physics', 'Pro...</td>\n",
       "      <td>10.1023/A:1008923215028</td>\n",
       "      <td>https://static.aminer.cn/storage/pdf/arxiv/98/...</td>\n",
       "      <td>['http://dx.doi.org/10.1023/A:1008923215028', ...</td>\n",
       "      <td>0.158943</td>\n",
       "    </tr>\n",
       "  </tbody>\n",
       "</table>\n",
       "</div>"
      ],
      "text/plain": [
       "       venue_id                            title  \\\n",
       "id                                                 \n",
       "23474    5968.0  Biogeography-Based Optimization   \n",
       "33581    2822.0       Extremely randomized trees   \n",
       "25072     450.0     Annealed importance sampling   \n",
       "\n",
       "                                                abstract    year  n_citation  \\\n",
       "id                                                                             \n",
       "23474  Biogeography is the study of the geographical ...  2008.0        2104   \n",
       "33581  This paper proposes a new tree-based ensemble ...  2006.0        1900   \n",
       "25072  Simulated annealing—moving from a tractable di...  2001.0         954   \n",
       "\n",
       "      page_start page_end issue volume  \\\n",
       "id                                       \n",
       "23474        702      713     6     12   \n",
       "33581          3       42     1     63   \n",
       "25072        125      139     2     11   \n",
       "\n",
       "                                                keywords  \\\n",
       "id                                                         \n",
       "23474  ['particle swarm optimization', 'biology-based...   \n",
       "33581  ['Supervised learning', 'Decision and regressi...   \n",
       "25072  ['tempered transitions', 'sequential importanc...   \n",
       "\n",
       "                                                     fos  \\\n",
       "id                                                         \n",
       "23474  ['Particle swarm optimization', 'Mathematical ...   \n",
       "33581  ['Cut-point', 'Kernel (linear algebra)', 'Deci...   \n",
       "25072  ['Slice sampling', 'Statistical physics', 'Pro...   \n",
       "\n",
       "                             doi  \\\n",
       "id                                 \n",
       "23474   10.1109/TEVC.2008.919004   \n",
       "33581  10.1007/s10994-006-6226-1   \n",
       "25072    10.1023/A:1008923215028   \n",
       "\n",
       "                                                     pdf  \\\n",
       "id                                                         \n",
       "23474  https://static.aminer.cn/upload/pdf/program/53...   \n",
       "33581  //static.aminer.org/pdf/PDF/001/009/448/extrem...   \n",
       "25072  https://static.aminer.cn/storage/pdf/arxiv/98/...   \n",
       "\n",
       "                                                     url  similarity  \n",
       "id                                                                    \n",
       "23474     ['http://dx.doi.org/10.1109/TEVC.2008.919004']    0.120411  \n",
       "33581  ['http://dx.doi.org/10.1007/s10994-006-6226-1'...    0.100472  \n",
       "25072  ['http://dx.doi.org/10.1023/A:1008923215028', ...    0.158943  "
      ]
     },
     "execution_count": 280,
     "metadata": {},
     "output_type": "execute_result"
    }
   ],
   "source": [
    "idx = [itm[0] for itm in book_list]\n",
    "map_similar = {itm[0]:itm[1] for itm in book_list}\n",
    "df_local = df_papers_1[df_papers_1.index.isin(idx)]\n",
    "df_local.loc[:,'similarity'] = [map_similar[it] for it in df_local.index]\n",
    "df_local = df_local[df_local.index.isin(idx)].sort_values(['n_citation', 'similarity'])[::-1]\n",
    "df_local.iloc[:3]"
   ]
  },
  {
   "cell_type": "code",
   "execution_count": 1,
   "id": "1de0c836",
   "metadata": {},
   "outputs": [],
   "source": [
    "# Additional work"
   ]
  },
  {
   "cell_type": "code",
   "execution_count": 13,
   "id": "8ceeb186",
   "metadata": {},
   "outputs": [],
   "source": [
    "df_authors = pd.read_csv('../data/data_csv/sample_author_paper_22.csv', sep='\\t', index_col='id')"
   ]
  },
  {
   "cell_type": "code",
   "execution_count": 11,
   "id": "25c2e683",
   "metadata": {},
   "outputs": [
    {
     "data": {
      "text/plain": [
       "1929590    35\n",
       "3030917    28\n",
       "1017870    27\n",
       "1553088    24\n",
       "4604627    24\n",
       "           ..\n",
       "869240      1\n",
       "4340738     1\n",
       "3137743     1\n",
       "868254      1\n",
       "2630571     1\n",
       "Name: paper_id, Length: 9992, dtype: int64"
      ]
     },
     "execution_count": 11,
     "metadata": {},
     "output_type": "execute_result"
    }
   ],
   "source": [
    "df_authors.paper_id.value_counts()"
   ]
  },
  {
   "cell_type": "code",
   "execution_count": 15,
   "id": "657cbc0d",
   "metadata": {},
   "outputs": [],
   "source": [
    "df_paper = pd.read_csv('../data/data_csv/sampled_papers_22.csv', sep='\\t', index_col='id')"
   ]
  },
  {
   "cell_type": "code",
   "execution_count": 17,
   "id": "0fe81326",
   "metadata": {},
   "outputs": [
    {
     "data": {
      "text/plain": [
       "39"
      ]
     },
     "execution_count": 17,
     "metadata": {},
     "output_type": "execute_result"
    }
   ],
   "source": [
    "# len(set(df_paper.index) & set(df_authors.index))"
   ]
  },
  {
   "cell_type": "code",
   "execution_count": 19,
   "id": "57333989",
   "metadata": {},
   "outputs": [
    {
     "data": {
      "text/html": [
       "<div>\n",
       "<style scoped>\n",
       "    .dataframe tbody tr th:only-of-type {\n",
       "        vertical-align: middle;\n",
       "    }\n",
       "\n",
       "    .dataframe tbody tr th {\n",
       "        vertical-align: top;\n",
       "    }\n",
       "\n",
       "    .dataframe thead th {\n",
       "        text-align: right;\n",
       "    }\n",
       "</style>\n",
       "<table border=\"1\" class=\"dataframe\">\n",
       "  <thead>\n",
       "    <tr style=\"text-align: right;\">\n",
       "      <th></th>\n",
       "      <th>parent_paper</th>\n",
       "      <th>child_paper</th>\n",
       "    </tr>\n",
       "    <tr>\n",
       "      <th>id</th>\n",
       "      <th></th>\n",
       "      <th></th>\n",
       "    </tr>\n",
       "  </thead>\n",
       "  <tbody>\n",
       "    <tr>\n",
       "      <th>0</th>\n",
       "      <td>46400</td>\n",
       "      <td>705578</td>\n",
       "    </tr>\n",
       "    <tr>\n",
       "      <th>1</th>\n",
       "      <td>66869</td>\n",
       "      <td>840203</td>\n",
       "    </tr>\n",
       "    <tr>\n",
       "      <th>2</th>\n",
       "      <td>85818</td>\n",
       "      <td>1659843</td>\n",
       "    </tr>\n",
       "    <tr>\n",
       "      <th>3</th>\n",
       "      <td>92078</td>\n",
       "      <td>166670</td>\n",
       "    </tr>\n",
       "    <tr>\n",
       "      <th>4</th>\n",
       "      <td>105843</td>\n",
       "      <td>2088805</td>\n",
       "    </tr>\n",
       "    <tr>\n",
       "      <th>...</th>\n",
       "      <td>...</td>\n",
       "      <td>...</td>\n",
       "    </tr>\n",
       "    <tr>\n",
       "      <th>288</th>\n",
       "      <td>5113913</td>\n",
       "      <td>4907523</td>\n",
       "    </tr>\n",
       "    <tr>\n",
       "      <th>289</th>\n",
       "      <td>5131294</td>\n",
       "      <td>3683706</td>\n",
       "    </tr>\n",
       "    <tr>\n",
       "      <th>290</th>\n",
       "      <td>5169277</td>\n",
       "      <td>4144432</td>\n",
       "    </tr>\n",
       "    <tr>\n",
       "      <th>291</th>\n",
       "      <td>5170079</td>\n",
       "      <td>4393735</td>\n",
       "    </tr>\n",
       "    <tr>\n",
       "      <th>292</th>\n",
       "      <td>5229018</td>\n",
       "      <td>4098991</td>\n",
       "    </tr>\n",
       "  </tbody>\n",
       "</table>\n",
       "<p>293 rows × 2 columns</p>\n",
       "</div>"
      ],
      "text/plain": [
       "     parent_paper  child_paper\n",
       "id                            \n",
       "0           46400       705578\n",
       "1           66869       840203\n",
       "2           85818      1659843\n",
       "3           92078       166670\n",
       "4          105843      2088805\n",
       "..            ...          ...\n",
       "288       5113913      4907523\n",
       "289       5131294      3683706\n",
       "290       5169277      4144432\n",
       "291       5170079      4393735\n",
       "292       5229018      4098991\n",
       "\n",
       "[293 rows x 2 columns]"
      ]
     },
     "execution_count": 19,
     "metadata": {},
     "output_type": "execute_result"
    }
   ],
   "source": [
    "pd.read_csv('../data/data_csv/sample_papers_refs_22.csv', sep='\\t', index_col='id')"
   ]
  },
  {
   "cell_type": "code",
   "execution_count": 31,
   "id": "0ec39491",
   "metadata": {},
   "outputs": [
    {
     "data": {
      "text/plain": [
       "'Predicting temporal errors in complex task environments: A computational and experimental approach'"
      ]
     },
     "execution_count": 31,
     "metadata": {},
     "output_type": "execute_result"
    }
   ],
   "source": [
    "df_paper.loc[634356].title"
   ]
  },
  {
   "cell_type": "code",
   "execution_count": null,
   "id": "33ff1667",
   "metadata": {},
   "outputs": [],
   "source": []
  }
 ],
 "metadata": {
  "kernelspec": {
   "display_name": "Python 3 (ipykernel)",
   "language": "python",
   "name": "python3"
  },
  "language_info": {
   "codemirror_mode": {
    "name": "ipython",
    "version": 3
   },
   "file_extension": ".py",
   "mimetype": "text/x-python",
   "name": "python",
   "nbconvert_exporter": "python",
   "pygments_lexer": "ipython3",
   "version": "3.10.8"
  }
 },
 "nbformat": 4,
 "nbformat_minor": 5
}
